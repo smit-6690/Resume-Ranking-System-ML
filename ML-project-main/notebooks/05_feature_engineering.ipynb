{
 "cells": [
  {
   "cell_type": "markdown",
   "id": "03cde2f9",
   "metadata": {},
   "source": [
    "Imports + Load Files"
   ]
  },
  {
   "cell_type": "code",
   "execution_count": 12,
   "id": "7e192246",
   "metadata": {},
   "outputs": [
    {
     "data": {
      "text/html": [
       "<div>\n",
       "<style scoped>\n",
       "    .dataframe tbody tr th:only-of-type {\n",
       "        vertical-align: middle;\n",
       "    }\n",
       "\n",
       "    .dataframe tbody tr th {\n",
       "        vertical-align: top;\n",
       "    }\n",
       "\n",
       "    .dataframe thead th {\n",
       "        text-align: right;\n",
       "    }\n",
       "</style>\n",
       "<table border=\"1\" class=\"dataframe\">\n",
       "  <thead>\n",
       "    <tr style=\"text-align: right;\">\n",
       "      <th></th>\n",
       "      <th>Resume Preview</th>\n",
       "      <th>JD_Role</th>\n",
       "      <th>Similarity_Score</th>\n",
       "      <th>Label</th>\n",
       "      <th>Resume_Text</th>\n",
       "      <th>JD_Text</th>\n",
       "    </tr>\n",
       "  </thead>\n",
       "  <tbody>\n",
       "    <tr>\n",
       "      <th>0</th>\n",
       "      <td>TECHNICAL SKILLS Skills: Java, SQL, PL/SQL, C,...</td>\n",
       "      <td>Java Developer_0</td>\n",
       "      <td>0.6398</td>\n",
       "      <td>1</td>\n",
       "      <td>technical skill skill java sql sql     bootstr...</td>\n",
       "      <td>**Job Title**: Java Backend Developer\\n**Locat...</td>\n",
       "    </tr>\n",
       "    <tr>\n",
       "      <th>1</th>\n",
       "      <td>TECHNICAL SKILLS Skills: Java, SQL, PL/SQL, C,...</td>\n",
       "      <td>Java Developer_0</td>\n",
       "      <td>0.6398</td>\n",
       "      <td>1</td>\n",
       "      <td>technical skill skill java sql sql     bootstr...</td>\n",
       "      <td>**Job Title**: Java Backend Developer\\n**Locat...</td>\n",
       "    </tr>\n",
       "  </tbody>\n",
       "</table>\n",
       "</div>"
      ],
      "text/plain": [
       "                                      Resume Preview           JD_Role  \\\n",
       "0  TECHNICAL SKILLS Skills: Java, SQL, PL/SQL, C,...  Java Developer_0   \n",
       "1  TECHNICAL SKILLS Skills: Java, SQL, PL/SQL, C,...  Java Developer_0   \n",
       "\n",
       "   Similarity_Score  Label                                        Resume_Text  \\\n",
       "0            0.6398      1  technical skill skill java sql sql     bootstr...   \n",
       "1            0.6398      1  technical skill skill java sql sql     bootstr...   \n",
       "\n",
       "                                             JD_Text  \n",
       "0  **Job Title**: Java Backend Developer\\n**Locat...  \n",
       "1  **Job Title**: Java Backend Developer\\n**Locat...  "
      ]
     },
     "execution_count": 12,
     "metadata": {},
     "output_type": "execute_result"
    }
   ],
   "source": [
    "import pandas as pd\n",
    "import re\n",
    "\n",
    "# Load labeled Resume–JD pairs with similarity scores\n",
    "df = pd.read_csv(\"../data/labeled_resume_jd_dataset.csv\")\n",
    "\n",
    "# Load cleaned resumes and JD files\n",
    "resumes = pd.read_csv(\"../data/resumes_cleaned.csv\")\n",
    "jds = pd.read_csv(\"../data/job_descriptions.csv\")\n",
    "\n",
    "# Create maps to attach full text for processing\n",
    "resumes_map = dict(zip(resumes['Resume'].apply(lambda x: x[:100] + \"...\"), resumes['Cleaned_Resume']))\n",
    "jds_map = dict(zip(jds['Category'] + \"_\" + jds.index.astype(str), jds['JD_Text']))\n",
    "\n",
    "df['Resume_Text'] = df['Resume Preview'].map(resumes_map)\n",
    "df['JD_Text'] = df['JD_Role'].map(jds_map)\n",
    "\n",
    "df.head(2)\n",
    "\n"
   ]
  },
  {
   "cell_type": "markdown",
   "id": "18e9cd32",
   "metadata": {},
   "source": [
    "Add resume_length Feature"
   ]
  },
  {
   "cell_type": "code",
   "execution_count": 13,
   "id": "7fde100c",
   "metadata": {},
   "outputs": [],
   "source": [
    "# Resume word count\n",
    "df['resume_length'] = df['Resume_Text'].apply(lambda x: len(str(x).split()))\n"
   ]
  },
  {
   "cell_type": "markdown",
   "id": "ce8549fd",
   "metadata": {},
   "source": [
    "Add skill_match_ratio and num_skills_matched"
   ]
  },
  {
   "cell_type": "code",
   "execution_count": 14,
   "id": "c669823d",
   "metadata": {},
   "outputs": [],
   "source": [
    "def skill_match_stats(jd_text, resume_text):\n",
    "    jd_keywords = set(str(jd_text).lower().split())\n",
    "    resume_words = set(str(resume_text).lower().split())\n",
    "    if not jd_keywords:\n",
    "        return (0.0, 0)\n",
    "    matched = jd_keywords & resume_words\n",
    "    return (len(matched) / len(jd_keywords), len(matched))\n",
    "\n",
    "# Apply function\n",
    "df[['skill_match_ratio', 'num_skills_matched']] = df.apply(\n",
    "    lambda row: pd.Series(skill_match_stats(row['JD_Text'], row['Resume_Text'])), axis=1\n",
    ")\n"
   ]
  },
  {
   "cell_type": "markdown",
   "id": "6bc35d88",
   "metadata": {},
   "source": [
    "Extract years_of_experience (simple regex-based)"
   ]
  },
  {
   "cell_type": "code",
   "execution_count": 15,
   "id": "587b0fa6",
   "metadata": {},
   "outputs": [],
   "source": [
    "def extract_experience(text):\n",
    "    # Look for patterns like \"X years\"\n",
    "    matches = re.findall(r'(\\d+)\\s+years?', str(text).lower())\n",
    "    if matches:\n",
    "        years = [int(m) for m in matches if int(m) < 50]  # avoid false hits like \"100 years\"\n",
    "        return max(years) if years else 0\n",
    "    return 0\n",
    "\n",
    "df['years_of_experience'] = df['Resume_Text'].apply(extract_experience)\n",
    "\n",
    "\n"
   ]
  },
  {
   "cell_type": "markdown",
   "id": "69519927",
   "metadata": {},
   "source": [
    "Final Feature Set + Save"
   ]
  },
  {
   "cell_type": "code",
   "execution_count": 17,
   "id": "5ee8eee7",
   "metadata": {},
   "outputs": [
    {
     "name": "stdout",
     "output_type": "stream",
     "text": [
      "✅ Final feature dataset saved.\n"
     ]
    }
   ],
   "source": [
    "\n",
    "# Keep only selected features\n",
    "final_features = df[[\n",
    "    'Similarity_Score',\n",
    "    'skill_match_ratio',\n",
    "    'resume_length',\n",
    "    'years_of_experience',\n",
    "    'Label'\n",
    "]]\n",
    "\n",
    "# Save to CSV\n",
    "final_features.to_csv(\"../data/final_features_dataset.csv\", index=False)\n",
    "print(\"✅ Final feature dataset saved.\")\n",
    "\n"
   ]
  },
  {
   "cell_type": "code",
   "execution_count": null,
   "id": "27259aec",
   "metadata": {},
   "outputs": [],
   "source": []
  }
 ],
 "metadata": {
  "kernelspec": {
   "display_name": "Python 3",
   "language": "python",
   "name": "python3"
  },
  "language_info": {
   "codemirror_mode": {
    "name": "ipython",
    "version": 3
   },
   "file_extension": ".py",
   "mimetype": "text/x-python",
   "name": "python",
   "nbconvert_exporter": "python",
   "pygments_lexer": "ipython3",
   "version": "3.11.11"
  }
 },
 "nbformat": 4,
 "nbformat_minor": 5
}
