{
 "cells": [
  {
   "cell_type": "markdown",
   "id": "6f527e1f",
   "metadata": {},
   "source": [
    "Load the Data"
   ]
  },
  {
   "cell_type": "code",
   "execution_count": 3,
   "id": "827f3e5a",
   "metadata": {},
   "outputs": [
    {
     "name": "stdout",
     "output_type": "stream",
     "text": [
      "Resumes: (962, 3)\n",
      "Job Descriptions: (75, 2)\n"
     ]
    },
    {
     "data": {
      "text/plain": [
       "(       Category                                             Resume  \\\n",
       " 0  Data Science  Skills * Programming Languages: Python (pandas...   \n",
       " 1  Data Science  Education Details \\r\\nMay 2013 to May 2017 B.E...   \n",
       " \n",
       "                                       Cleaned_Resume  \n",
       " 0  skill programming language python panda numpy ...  \n",
       " 1  education detail             uit rgpv data sci...  ,\n",
       "          Category                                            JD_Text\n",
       " 0  Java Developer  **Job Title**: Java Backend Developer\\n**Locat...\n",
       " 1  Java Developer  **Job Title**: Full Stack Java Developer\\n**Lo...)"
      ]
     },
     "execution_count": 3,
     "metadata": {},
     "output_type": "execute_result"
    }
   ],
   "source": [
    "import pandas as pd\n",
    "\n",
    "# Load cleaned resumes\n",
    "resumes_df = pd.read_csv(\"../data/resumes_cleaned.csv\")\n",
    "\n",
    "# Load JD dataset\n",
    "jd_df = pd.read_csv(\"../data/job_descriptions.csv\")\n",
    "\n",
    "# Check data shape\n",
    "print(f\"Resumes: {resumes_df.shape}\")\n",
    "print(f\"Job Descriptions: {jd_df.shape}\")\n",
    "\n",
    "# Preview samples\n",
    "resumes_df.head(2), jd_df.head(2)\n",
    "\n"
   ]
  },
  {
   "cell_type": "markdown",
   "id": "b7c719d1",
   "metadata": {},
   "source": [
    "Import SpaCy and Load Model"
   ]
  },
  {
   "cell_type": "code",
   "execution_count": 4,
   "id": "ba96bedb",
   "metadata": {},
   "outputs": [],
   "source": [
    "import spacy\n",
    "import re\n",
    "\n",
    "# Load SpaCy English NLP model\n",
    "nlp = spacy.load(\"en_core_web_sm\")\n"
   ]
  },
  {
   "cell_type": "markdown",
   "id": "da814d4a",
   "metadata": {},
   "source": [
    "Define the Cleaning Function"
   ]
  },
  {
   "cell_type": "code",
   "execution_count": 5,
   "id": "31581e99",
   "metadata": {},
   "outputs": [],
   "source": [
    "# Text cleaner\n",
    "def clean_text_spacy(text):\n",
    "    text = text.lower()\n",
    "    text = re.sub(r'\\n|\\r|\\t', ' ', text)\n",
    "    text = re.sub(r'[^a-zA-Z]', ' ', text)\n",
    "\n",
    "    doc = nlp(text)\n",
    "    tokens = [\n",
    "        token.lemma_ for token in doc\n",
    "        if not token.is_stop and len(token.text) > 2\n",
    "    ]\n",
    "    return ' '.join(tokens)\n"
   ]
  },
  {
   "cell_type": "markdown",
   "id": "93f7208e",
   "metadata": {},
   "source": [
    "Apply Cleaning to JD Text\n",
    "\n",
    "Clean and Add Cleaned_JD Column"
   ]
  },
  {
   "cell_type": "code",
   "execution_count": 6,
   "id": "67c6a5dc",
   "metadata": {},
   "outputs": [
    {
     "data": {
      "text/html": [
       "<div>\n",
       "<style scoped>\n",
       "    .dataframe tbody tr th:only-of-type {\n",
       "        vertical-align: middle;\n",
       "    }\n",
       "\n",
       "    .dataframe tbody tr th {\n",
       "        vertical-align: top;\n",
       "    }\n",
       "\n",
       "    .dataframe thead th {\n",
       "        text-align: right;\n",
       "    }\n",
       "</style>\n",
       "<table border=\"1\" class=\"dataframe\">\n",
       "  <thead>\n",
       "    <tr style=\"text-align: right;\">\n",
       "      <th></th>\n",
       "      <th>Category</th>\n",
       "      <th>Cleaned_JD</th>\n",
       "    </tr>\n",
       "  </thead>\n",
       "  <tbody>\n",
       "    <tr>\n",
       "      <th>0</th>\n",
       "      <td>Java Developer</td>\n",
       "      <td>job title     java backend developer location ...</td>\n",
       "    </tr>\n",
       "    <tr>\n",
       "      <th>1</th>\n",
       "      <td>Java Developer</td>\n",
       "      <td>job title     stack java developer location   ...</td>\n",
       "    </tr>\n",
       "  </tbody>\n",
       "</table>\n",
       "</div>"
      ],
      "text/plain": [
       "         Category                                         Cleaned_JD\n",
       "0  Java Developer  job title     java backend developer location ...\n",
       "1  Java Developer  job title     stack java developer location   ..."
      ]
     },
     "execution_count": 6,
     "metadata": {},
     "output_type": "execute_result"
    }
   ],
   "source": [
    "jd_df['Cleaned_JD'] = jd_df['JD_Text'].apply(clean_text_spacy)\n",
    "jd_df[['Category', 'Cleaned_JD']].head(2)\n"
   ]
  },
  {
   "cell_type": "markdown",
   "id": "43b0717f",
   "metadata": {},
   "source": [
    "Make JD Categories Unique\n"
   ]
  },
  {
   "cell_type": "code",
   "execution_count": 7,
   "id": "b2c2f4b4",
   "metadata": {},
   "outputs": [],
   "source": [
    "# Append row index to category to make unique JD labels\n",
    "jd_df['Unique_Category'] = jd_df['Category'] + \"_\" + jd_df.index.astype(str)\n",
    "\n",
    "# These will become the column labels in the similarity matrix\n",
    "jd_labels = jd_df['Unique_Category'].tolist()\n",
    "\n"
   ]
  },
  {
   "cell_type": "markdown",
   "id": "81d9694e",
   "metadata": {},
   "source": [
    "Load Pretrained SentenceTransformer"
   ]
  },
  {
   "cell_type": "code",
   "execution_count": 8,
   "id": "ae81e2f7",
   "metadata": {},
   "outputs": [
    {
     "name": "stderr",
     "output_type": "stream",
     "text": [
      "/opt/homebrew/lib/python3.11/site-packages/tqdm/auto.py:21: TqdmWarning: IProgress not found. Please update jupyter and ipywidgets. See https://ipywidgets.readthedocs.io/en/stable/user_install.html\n",
      "  from .autonotebook import tqdm as notebook_tqdm\n"
     ]
    }
   ],
   "source": [
    "from sentence_transformers import SentenceTransformer\n",
    "\n",
    "# Load a fast and lightweight model (great for similarity)\n",
    "model = SentenceTransformer('all-MiniLM-L6-v2')\n"
   ]
  },
  {
   "cell_type": "markdown",
   "id": "40aca3a1",
   "metadata": {},
   "source": [
    "Generate BERT Resume Embeddings"
   ]
  },
  {
   "cell_type": "code",
   "execution_count": 9,
   "id": "a21c2878",
   "metadata": {},
   "outputs": [
    {
     "name": "stderr",
     "output_type": "stream",
     "text": [
      "Batches: 100%|██████████| 31/31 [00:07<00:00,  4.26it/s]\n"
     ]
    }
   ],
   "source": [
    "# Get cleaned resume text list\n",
    "resume_texts = resumes_df['Cleaned_Resume'].tolist()\n",
    "\n",
    "# Generate embeddings\n",
    "resume_embeddings = model.encode(resume_texts, show_progress_bar=True)\n"
   ]
  },
  {
   "cell_type": "markdown",
   "id": "9d976e89",
   "metadata": {},
   "source": [
    "Generate BERT JD Embeddings"
   ]
  },
  {
   "cell_type": "code",
   "execution_count": 10,
   "id": "96f994a3",
   "metadata": {},
   "outputs": [
    {
     "name": "stderr",
     "output_type": "stream",
     "text": [
      "Batches: 100%|██████████| 3/3 [00:00<00:00,  9.07it/s]\n"
     ]
    }
   ],
   "source": [
    "# Get cleaned JD text list\n",
    "jd_texts = jd_df['Cleaned_JD'].tolist()\n",
    "\n",
    "# Generate embeddings\n",
    "jd_embeddings = model.encode(jd_texts, show_progress_bar=True)\n"
   ]
  },
  {
   "cell_type": "markdown",
   "id": "f3fb31a3",
   "metadata": {},
   "source": [
    "Compute Cosine Similarity and Create DataFrame"
   ]
  },
  {
   "cell_type": "code",
   "execution_count": 11,
   "id": "4ef1ca0d",
   "metadata": {},
   "outputs": [
    {
     "data": {
      "text/html": [
       "<div>\n",
       "<style scoped>\n",
       "    .dataframe tbody tr th:only-of-type {\n",
       "        vertical-align: middle;\n",
       "    }\n",
       "\n",
       "    .dataframe tbody tr th {\n",
       "        vertical-align: top;\n",
       "    }\n",
       "\n",
       "    .dataframe thead th {\n",
       "        text-align: right;\n",
       "    }\n",
       "</style>\n",
       "<table border=\"1\" class=\"dataframe\">\n",
       "  <thead>\n",
       "    <tr style=\"text-align: right;\">\n",
       "      <th></th>\n",
       "      <th>Resume Preview</th>\n",
       "      <th>Java Developer_0</th>\n",
       "      <th>Java Developer_1</th>\n",
       "      <th>Java Developer_2</th>\n",
       "      <th>DevOps Engineer_3</th>\n",
       "      <th>DevOps Engineer_4</th>\n",
       "      <th>DevOps Engineer_5</th>\n",
       "      <th>Python Developer_6</th>\n",
       "      <th>Python Developer_7</th>\n",
       "      <th>Python Developer_8</th>\n",
       "      <th>...</th>\n",
       "      <th>PMO_65</th>\n",
       "      <th>HR_66</th>\n",
       "      <th>HR_67</th>\n",
       "      <th>HR_68</th>\n",
       "      <th>Arts_69</th>\n",
       "      <th>Arts_70</th>\n",
       "      <th>Arts_71</th>\n",
       "      <th>ETL Developer_72</th>\n",
       "      <th>ETL Developer_73</th>\n",
       "      <th>ETL Developer_74</th>\n",
       "    </tr>\n",
       "  </thead>\n",
       "  <tbody>\n",
       "    <tr>\n",
       "      <th>0</th>\n",
       "      <td>Skills * Programming Languages: Python (pandas...</td>\n",
       "      <td>0.3915</td>\n",
       "      <td>0.3392</td>\n",
       "      <td>0.4121</td>\n",
       "      <td>0.4429</td>\n",
       "      <td>0.4301</td>\n",
       "      <td>0.3702</td>\n",
       "      <td>0.4548</td>\n",
       "      <td>0.5501</td>\n",
       "      <td>0.5071</td>\n",
       "      <td>...</td>\n",
       "      <td>0.4064</td>\n",
       "      <td>0.4656</td>\n",
       "      <td>0.4597</td>\n",
       "      <td>0.4464</td>\n",
       "      <td>0.4310</td>\n",
       "      <td>0.4178</td>\n",
       "      <td>0.4258</td>\n",
       "      <td>0.3931</td>\n",
       "      <td>0.3987</td>\n",
       "      <td>0.3941</td>\n",
       "    </tr>\n",
       "    <tr>\n",
       "      <th>1</th>\n",
       "      <td>Education Details \\r\\nMay 2013 to May 2017 B.E...</td>\n",
       "      <td>0.3897</td>\n",
       "      <td>0.3704</td>\n",
       "      <td>0.4749</td>\n",
       "      <td>0.4441</td>\n",
       "      <td>0.4116</td>\n",
       "      <td>0.3821</td>\n",
       "      <td>0.4291</td>\n",
       "      <td>0.5720</td>\n",
       "      <td>0.5456</td>\n",
       "      <td>...</td>\n",
       "      <td>0.4325</td>\n",
       "      <td>0.4906</td>\n",
       "      <td>0.4822</td>\n",
       "      <td>0.4554</td>\n",
       "      <td>0.4822</td>\n",
       "      <td>0.4284</td>\n",
       "      <td>0.4509</td>\n",
       "      <td>0.3995</td>\n",
       "      <td>0.4126</td>\n",
       "      <td>0.3980</td>\n",
       "    </tr>\n",
       "    <tr>\n",
       "      <th>2</th>\n",
       "      <td>Areas of Interest Deep Learning, Control Syste...</td>\n",
       "      <td>0.3733</td>\n",
       "      <td>0.3143</td>\n",
       "      <td>0.4364</td>\n",
       "      <td>0.3303</td>\n",
       "      <td>0.3537</td>\n",
       "      <td>0.2923</td>\n",
       "      <td>0.4047</td>\n",
       "      <td>0.4598</td>\n",
       "      <td>0.4794</td>\n",
       "      <td>...</td>\n",
       "      <td>0.4328</td>\n",
       "      <td>0.4438</td>\n",
       "      <td>0.4315</td>\n",
       "      <td>0.4180</td>\n",
       "      <td>0.3928</td>\n",
       "      <td>0.3909</td>\n",
       "      <td>0.3975</td>\n",
       "      <td>0.3487</td>\n",
       "      <td>0.3500</td>\n",
       "      <td>0.3483</td>\n",
       "    </tr>\n",
       "    <tr>\n",
       "      <th>3</th>\n",
       "      <td>Skills â¢ R â¢ Python â¢ SAP HANA â¢ Table...</td>\n",
       "      <td>0.3952</td>\n",
       "      <td>0.3145</td>\n",
       "      <td>0.4127</td>\n",
       "      <td>0.3751</td>\n",
       "      <td>0.3747</td>\n",
       "      <td>0.3034</td>\n",
       "      <td>0.4307</td>\n",
       "      <td>0.4509</td>\n",
       "      <td>0.4575</td>\n",
       "      <td>...</td>\n",
       "      <td>0.4625</td>\n",
       "      <td>0.4786</td>\n",
       "      <td>0.4638</td>\n",
       "      <td>0.4858</td>\n",
       "      <td>0.4429</td>\n",
       "      <td>0.4384</td>\n",
       "      <td>0.4661</td>\n",
       "      <td>0.4263</td>\n",
       "      <td>0.4365</td>\n",
       "      <td>0.4352</td>\n",
       "    </tr>\n",
       "    <tr>\n",
       "      <th>4</th>\n",
       "      <td>Education Details \\r\\n MCA   YMCAUST,  Faridab...</td>\n",
       "      <td>0.5317</td>\n",
       "      <td>0.4772</td>\n",
       "      <td>0.6330</td>\n",
       "      <td>0.4628</td>\n",
       "      <td>0.4643</td>\n",
       "      <td>0.3991</td>\n",
       "      <td>0.4928</td>\n",
       "      <td>0.5586</td>\n",
       "      <td>0.6065</td>\n",
       "      <td>...</td>\n",
       "      <td>0.5399</td>\n",
       "      <td>0.5508</td>\n",
       "      <td>0.5626</td>\n",
       "      <td>0.5347</td>\n",
       "      <td>0.5226</td>\n",
       "      <td>0.5069</td>\n",
       "      <td>0.5059</td>\n",
       "      <td>0.4599</td>\n",
       "      <td>0.4819</td>\n",
       "      <td>0.4695</td>\n",
       "    </tr>\n",
       "  </tbody>\n",
       "</table>\n",
       "<p>5 rows × 76 columns</p>\n",
       "</div>"
      ],
      "text/plain": [
       "                                      Resume Preview  Java Developer_0  \\\n",
       "0  Skills * Programming Languages: Python (pandas...            0.3915   \n",
       "1  Education Details \\r\\nMay 2013 to May 2017 B.E...            0.3897   \n",
       "2  Areas of Interest Deep Learning, Control Syste...            0.3733   \n",
       "3  Skills â¢ R â¢ Python â¢ SAP HANA â¢ Table...            0.3952   \n",
       "4  Education Details \\r\\n MCA   YMCAUST,  Faridab...            0.5317   \n",
       "\n",
       "   Java Developer_1  Java Developer_2  DevOps Engineer_3  DevOps Engineer_4  \\\n",
       "0            0.3392            0.4121             0.4429             0.4301   \n",
       "1            0.3704            0.4749             0.4441             0.4116   \n",
       "2            0.3143            0.4364             0.3303             0.3537   \n",
       "3            0.3145            0.4127             0.3751             0.3747   \n",
       "4            0.4772            0.6330             0.4628             0.4643   \n",
       "\n",
       "   DevOps Engineer_5  Python Developer_6  Python Developer_7  \\\n",
       "0             0.3702              0.4548              0.5501   \n",
       "1             0.3821              0.4291              0.5720   \n",
       "2             0.2923              0.4047              0.4598   \n",
       "3             0.3034              0.4307              0.4509   \n",
       "4             0.3991              0.4928              0.5586   \n",
       "\n",
       "   Python Developer_8  ...  PMO_65   HR_66   HR_67   HR_68  Arts_69  Arts_70  \\\n",
       "0              0.5071  ...  0.4064  0.4656  0.4597  0.4464   0.4310   0.4178   \n",
       "1              0.5456  ...  0.4325  0.4906  0.4822  0.4554   0.4822   0.4284   \n",
       "2              0.4794  ...  0.4328  0.4438  0.4315  0.4180   0.3928   0.3909   \n",
       "3              0.4575  ...  0.4625  0.4786  0.4638  0.4858   0.4429   0.4384   \n",
       "4              0.6065  ...  0.5399  0.5508  0.5626  0.5347   0.5226   0.5069   \n",
       "\n",
       "   Arts_71  ETL Developer_72  ETL Developer_73  ETL Developer_74  \n",
       "0   0.4258            0.3931            0.3987            0.3941  \n",
       "1   0.4509            0.3995            0.4126            0.3980  \n",
       "2   0.3975            0.3487            0.3500            0.3483  \n",
       "3   0.4661            0.4263            0.4365            0.4352  \n",
       "4   0.5059            0.4599            0.4819            0.4695  \n",
       "\n",
       "[5 rows x 76 columns]"
      ]
     },
     "execution_count": 11,
     "metadata": {},
     "output_type": "execute_result"
    }
   ],
   "source": [
    "from sklearn.metrics.pairwise import cosine_similarity\n",
    "import numpy as np\n",
    "\n",
    "# Similarity matrix\n",
    "similarity_matrix = cosine_similarity(resume_embeddings, jd_embeddings)\n",
    "similarity_matrix = np.round(similarity_matrix, 4)\n",
    "\n",
    "# Convert to DataFrame\n",
    "similarity_df = pd.DataFrame(similarity_matrix, columns=jd_labels)\n",
    "similarity_df['Resume Preview'] = resumes_df['Resume'].apply(lambda x: x[:100] + '...')\n",
    "similarity_df = similarity_df[['Resume Preview'] + jd_labels]\n",
    "\n",
    "# Preview\n",
    "similarity_df.head()\n",
    "\n"
   ]
  },
  {
   "cell_type": "markdown",
   "id": "77fe532b",
   "metadata": {},
   "source": [
    "Save Full Similarity Matrix"
   ]
  },
  {
   "cell_type": "code",
   "execution_count": 12,
   "id": "8067bbef",
   "metadata": {},
   "outputs": [
    {
     "name": "stdout",
     "output_type": "stream",
     "text": [
      "✅ Saved full similarity matrix\n"
     ]
    }
   ],
   "source": [
    "similarity_df.to_csv(\"../data/resume_jd_similarity_scores.csv\", index=False)\n",
    "print(\"✅ Saved full similarity matrix\")\n",
    "\n"
   ]
  },
  {
   "cell_type": "markdown",
   "id": "5afcca68",
   "metadata": {},
   "source": [
    "Get Top 3 JD Matches per Resume"
   ]
  },
  {
   "cell_type": "code",
   "execution_count": 14,
   "id": "03cc6477",
   "metadata": {},
   "outputs": [
    {
     "data": {
      "text/html": [
       "<div>\n",
       "<style scoped>\n",
       "    .dataframe tbody tr th:only-of-type {\n",
       "        vertical-align: middle;\n",
       "    }\n",
       "\n",
       "    .dataframe tbody tr th {\n",
       "        vertical-align: top;\n",
       "    }\n",
       "\n",
       "    .dataframe thead th {\n",
       "        text-align: right;\n",
       "    }\n",
       "</style>\n",
       "<table border=\"1\" class=\"dataframe\">\n",
       "  <thead>\n",
       "    <tr style=\"text-align: right;\">\n",
       "      <th></th>\n",
       "      <th>Resume Preview</th>\n",
       "      <th>Top1_JD</th>\n",
       "      <th>Top1_Score</th>\n",
       "      <th>Top2_JD</th>\n",
       "      <th>Top2_Score</th>\n",
       "      <th>Top3_JD</th>\n",
       "      <th>Top3_Score</th>\n",
       "    </tr>\n",
       "  </thead>\n",
       "  <tbody>\n",
       "    <tr>\n",
       "      <th>0</th>\n",
       "      <td>Skills * Programming Languages: Python (pandas...</td>\n",
       "      <td>Data Science_49</td>\n",
       "      <td>0.5502</td>\n",
       "      <td>Python Developer_7</td>\n",
       "      <td>0.5501</td>\n",
       "      <td>Data Science_48</td>\n",
       "      <td>0.5295</td>\n",
       "    </tr>\n",
       "    <tr>\n",
       "      <th>1</th>\n",
       "      <td>Education Details \\r\\nMay 2013 to May 2017 B.E...</td>\n",
       "      <td>Python Developer_7</td>\n",
       "      <td>0.5720</td>\n",
       "      <td>Data Science_48</td>\n",
       "      <td>0.5531</td>\n",
       "      <td>Data Science_49</td>\n",
       "      <td>0.5523</td>\n",
       "    </tr>\n",
       "    <tr>\n",
       "      <th>2</th>\n",
       "      <td>Areas of Interest Deep Learning, Control Syste...</td>\n",
       "      <td>Python Developer_8</td>\n",
       "      <td>0.4794</td>\n",
       "      <td>Operations Manager_11</td>\n",
       "      <td>0.4649</td>\n",
       "      <td>Operations Manager_10</td>\n",
       "      <td>0.4616</td>\n",
       "    </tr>\n",
       "    <tr>\n",
       "      <th>3</th>\n",
       "      <td>Skills â¢ R â¢ Python â¢ SAP HANA â¢ Table...</td>\n",
       "      <td>Data Science_49</td>\n",
       "      <td>0.5564</td>\n",
       "      <td>Database_47</td>\n",
       "      <td>0.5345</td>\n",
       "      <td>Data Science_48</td>\n",
       "      <td>0.5332</td>\n",
       "    </tr>\n",
       "    <tr>\n",
       "      <th>4</th>\n",
       "      <td>Education Details \\r\\n MCA   YMCAUST,  Faridab...</td>\n",
       "      <td>Data Science_50</td>\n",
       "      <td>0.6650</td>\n",
       "      <td>Data Science_48</td>\n",
       "      <td>0.6542</td>\n",
       "      <td>Data Science_49</td>\n",
       "      <td>0.6343</td>\n",
       "    </tr>\n",
       "  </tbody>\n",
       "</table>\n",
       "</div>"
      ],
      "text/plain": [
       "                                      Resume Preview             Top1_JD  \\\n",
       "0  Skills * Programming Languages: Python (pandas...     Data Science_49   \n",
       "1  Education Details \\r\\nMay 2013 to May 2017 B.E...  Python Developer_7   \n",
       "2  Areas of Interest Deep Learning, Control Syste...  Python Developer_8   \n",
       "3  Skills â¢ R â¢ Python â¢ SAP HANA â¢ Table...     Data Science_49   \n",
       "4  Education Details \\r\\n MCA   YMCAUST,  Faridab...     Data Science_50   \n",
       "\n",
       "   Top1_Score                Top2_JD  Top2_Score                Top3_JD  \\\n",
       "0      0.5502     Python Developer_7      0.5501        Data Science_48   \n",
       "1      0.5720        Data Science_48      0.5531        Data Science_49   \n",
       "2      0.4794  Operations Manager_11      0.4649  Operations Manager_10   \n",
       "3      0.5564            Database_47      0.5345        Data Science_48   \n",
       "4      0.6650        Data Science_48      0.6542        Data Science_49   \n",
       "\n",
       "   Top3_Score  \n",
       "0      0.5295  \n",
       "1      0.5523  \n",
       "2      0.4616  \n",
       "3      0.5332  \n",
       "4      0.6343  "
      ]
     },
     "execution_count": 14,
     "metadata": {},
     "output_type": "execute_result"
    }
   ],
   "source": [
    "def get_top_matches_per_resume(sim_df, top_n=3):\n",
    "    jd_cols = sim_df.columns[1:]  # skip 'Resume Preview'\n",
    "    top_matches = []\n",
    "\n",
    "    for i, row in sim_df.iterrows():\n",
    "        row_scores = row[jd_cols].sort_values(ascending=False).head(top_n)\n",
    "        result = {\"Resume Preview\": row['Resume Preview']}\n",
    "        for j in range(top_n):\n",
    "            result[f\"Top{j+1}_JD\"] = row_scores.index[j]\n",
    "            result[f\"Top{j+1}_Score\"] = row_scores.iloc[j]\n",
    "        top_matches.append(result)\n",
    "\n",
    "    return pd.DataFrame(top_matches)\n",
    "\n",
    "top_resume_matches_df = get_top_matches_per_resume(similarity_df, top_n=3)\n",
    "top_resume_matches_df.to_csv(\"../data/top_jd_matches_per_resume.csv\", index=False)\n",
    "top_resume_matches_df.head()\n",
    "\n"
   ]
  },
  {
   "cell_type": "markdown",
   "id": "c74c73c2",
   "metadata": {},
   "source": [
    "Top 3 Resumes per JD"
   ]
  },
  {
   "cell_type": "code",
   "execution_count": 15,
   "id": "0d3ab5c7",
   "metadata": {},
   "outputs": [
    {
     "data": {
      "text/html": [
       "<div>\n",
       "<style scoped>\n",
       "    .dataframe tbody tr th:only-of-type {\n",
       "        vertical-align: middle;\n",
       "    }\n",
       "\n",
       "    .dataframe tbody tr th {\n",
       "        vertical-align: top;\n",
       "    }\n",
       "\n",
       "    .dataframe thead th {\n",
       "        text-align: right;\n",
       "    }\n",
       "</style>\n",
       "<table border=\"1\" class=\"dataframe\">\n",
       "  <thead>\n",
       "    <tr style=\"text-align: right;\">\n",
       "      <th></th>\n",
       "      <th>JD Category</th>\n",
       "      <th>Resume Preview</th>\n",
       "      <th>Score</th>\n",
       "    </tr>\n",
       "  </thead>\n",
       "  <tbody>\n",
       "    <tr>\n",
       "      <th>0</th>\n",
       "      <td>Java Developer_0</td>\n",
       "      <td>TECHNICAL SKILLS Skills: Java, SQL, PL/SQL, C,...</td>\n",
       "      <td>0.6398</td>\n",
       "    </tr>\n",
       "    <tr>\n",
       "      <th>1</th>\n",
       "      <td>Java Developer_0</td>\n",
       "      <td>TECHNICAL SKILLS Skills: Java, SQL, PL/SQL, C,...</td>\n",
       "      <td>0.6398</td>\n",
       "    </tr>\n",
       "    <tr>\n",
       "      <th>2</th>\n",
       "      <td>Java Developer_0</td>\n",
       "      <td>TECHNICAL SKILLS Skills: Java, SQL, PL/SQL, C,...</td>\n",
       "      <td>0.6398</td>\n",
       "    </tr>\n",
       "    <tr>\n",
       "      <th>3</th>\n",
       "      <td>Java Developer_1</td>\n",
       "      <td>Technical Skills Key Skills MS Technology .Net...</td>\n",
       "      <td>0.5816</td>\n",
       "    </tr>\n",
       "    <tr>\n",
       "      <th>4</th>\n",
       "      <td>Java Developer_1</td>\n",
       "      <td>CORE COMPETENCIES ~ Ant ~ Maven ~ GIT ~ Bitbuc...</td>\n",
       "      <td>0.5803</td>\n",
       "    </tr>\n",
       "  </tbody>\n",
       "</table>\n",
       "</div>"
      ],
      "text/plain": [
       "        JD Category                                     Resume Preview   Score\n",
       "0  Java Developer_0  TECHNICAL SKILLS Skills: Java, SQL, PL/SQL, C,...  0.6398\n",
       "1  Java Developer_0  TECHNICAL SKILLS Skills: Java, SQL, PL/SQL, C,...  0.6398\n",
       "2  Java Developer_0  TECHNICAL SKILLS Skills: Java, SQL, PL/SQL, C,...  0.6398\n",
       "3  Java Developer_1  Technical Skills Key Skills MS Technology .Net...  0.5816\n",
       "4  Java Developer_1  CORE COMPETENCIES ~ Ant ~ Maven ~ GIT ~ Bitbuc...  0.5803"
      ]
     },
     "execution_count": 15,
     "metadata": {},
     "output_type": "execute_result"
    }
   ],
   "source": [
    "def get_top_matches_per_jd(sim_df, top_n=3):\n",
    "    jd_cols = sim_df.columns[1:]\n",
    "    jd_top_matches = []\n",
    "\n",
    "    for jd in jd_cols:\n",
    "        top_rows = sim_df.sort_values(by=jd, ascending=False).head(top_n)\n",
    "        for idx, row in top_rows.iterrows():\n",
    "            jd_top_matches.append({\n",
    "                \"JD Category\": jd,\n",
    "                \"Resume Preview\": row['Resume Preview'],\n",
    "                \"Score\": row[jd]\n",
    "            })\n",
    "\n",
    "    return pd.DataFrame(jd_top_matches)\n",
    "\n",
    "top_resume_per_jd_df = get_top_matches_per_jd(similarity_df, top_n=3)\n",
    "top_resume_per_jd_df.to_csv(\"../data/top_resume_matches_per_jd.csv\", index=False)\n",
    "top_resume_per_jd_df.head()\n",
    "\n"
   ]
  }
 ],
 "metadata": {
  "kernelspec": {
   "display_name": "Python 3",
   "language": "python",
   "name": "python3"
  },
  "language_info": {
   "codemirror_mode": {
    "name": "ipython",
    "version": 3
   },
   "file_extension": ".py",
   "mimetype": "text/x-python",
   "name": "python",
   "nbconvert_exporter": "python",
   "pygments_lexer": "ipython3",
   "version": "3.11.11"
  }
 },
 "nbformat": 4,
 "nbformat_minor": 5
}
