{
 "cells": [
  {
   "cell_type": "markdown",
   "id": "0cf2e435",
   "metadata": {},
   "source": [
    "Import Libraries "
   ]
  },
  {
   "cell_type": "code",
   "execution_count": 2,
   "id": "0617cdc7",
   "metadata": {},
   "outputs": [],
   "source": [
    "import pandas as pd\n",
    "import spacy\n",
    "import re\n"
   ]
  },
  {
   "cell_type": "markdown",
   "id": "6c239d95",
   "metadata": {},
   "source": [
    "Load SpaCy Model"
   ]
  },
  {
   "cell_type": "code",
   "execution_count": 3,
   "id": "d1b5dcaa",
   "metadata": {},
   "outputs": [],
   "source": [
    "import spacy\n",
    "nlp = spacy.load(\"en_core_web_sm\")\n",
    "\n",
    "\n"
   ]
  },
  {
   "cell_type": "markdown",
   "id": "29d82363",
   "metadata": {},
   "source": [
    "Load the Raw Resume Dataset"
   ]
  },
  {
   "cell_type": "code",
   "execution_count": 4,
   "id": "04ac3468",
   "metadata": {},
   "outputs": [
    {
     "data": {
      "text/html": [
       "<div>\n",
       "<style scoped>\n",
       "    .dataframe tbody tr th:only-of-type {\n",
       "        vertical-align: middle;\n",
       "    }\n",
       "\n",
       "    .dataframe tbody tr th {\n",
       "        vertical-align: top;\n",
       "    }\n",
       "\n",
       "    .dataframe thead th {\n",
       "        text-align: right;\n",
       "    }\n",
       "</style>\n",
       "<table border=\"1\" class=\"dataframe\">\n",
       "  <thead>\n",
       "    <tr style=\"text-align: right;\">\n",
       "      <th></th>\n",
       "      <th>Category</th>\n",
       "      <th>Resume</th>\n",
       "    </tr>\n",
       "  </thead>\n",
       "  <tbody>\n",
       "    <tr>\n",
       "      <th>0</th>\n",
       "      <td>Data Science</td>\n",
       "      <td>Skills * Programming Languages: Python (pandas...</td>\n",
       "    </tr>\n",
       "    <tr>\n",
       "      <th>1</th>\n",
       "      <td>Data Science</td>\n",
       "      <td>Education Details \\r\\nMay 2013 to May 2017 B.E...</td>\n",
       "    </tr>\n",
       "    <tr>\n",
       "      <th>2</th>\n",
       "      <td>Data Science</td>\n",
       "      <td>Areas of Interest Deep Learning, Control Syste...</td>\n",
       "    </tr>\n",
       "    <tr>\n",
       "      <th>3</th>\n",
       "      <td>Data Science</td>\n",
       "      <td>Skills â¢ R â¢ Python â¢ SAP HANA â¢ Table...</td>\n",
       "    </tr>\n",
       "    <tr>\n",
       "      <th>4</th>\n",
       "      <td>Data Science</td>\n",
       "      <td>Education Details \\r\\n MCA   YMCAUST,  Faridab...</td>\n",
       "    </tr>\n",
       "  </tbody>\n",
       "</table>\n",
       "</div>"
      ],
      "text/plain": [
       "       Category                                             Resume\n",
       "0  Data Science  Skills * Programming Languages: Python (pandas...\n",
       "1  Data Science  Education Details \\r\\nMay 2013 to May 2017 B.E...\n",
       "2  Data Science  Areas of Interest Deep Learning, Control Syste...\n",
       "3  Data Science  Skills â¢ R â¢ Python â¢ SAP HANA â¢ Table...\n",
       "4  Data Science  Education Details \\r\\n MCA   YMCAUST,  Faridab..."
      ]
     },
     "execution_count": 4,
     "metadata": {},
     "output_type": "execute_result"
    }
   ],
   "source": [
    "# Load your raw dataset (assumes the original CSV file)\n",
    "df = pd.read_csv(\"../data/resumes_dataset.csv\")\n",
    "\n",
    "# Drop empty rows\n",
    "df = df.dropna()\n",
    "df = df[df['Resume'].str.strip() != '']\n",
    "df.reset_index(drop=True, inplace=True)\n",
    "\n",
    "df.head()\n"
   ]
  },
  {
   "cell_type": "markdown",
   "id": "9ceb412d",
   "metadata": {},
   "source": [
    "Define Resume Cleaning Function Using SpaCy\n",
    "\n",
    "This function takes raw resume text and returns a clean, normalized version by:\n",
    "\n",
    "Lowercasing\n",
    "\n",
    "Removing special characters and numbers\n",
    "\n",
    "Tokenizing the text\n",
    "\n",
    "Removing stopwords\n",
    "\n",
    "Lemmatizing each word\n",
    "\n"
   ]
  },
  {
   "cell_type": "code",
   "execution_count": 5,
   "id": "6261bb4e",
   "metadata": {},
   "outputs": [],
   "source": [
    "def clean_resume_spacy(text):\n",
    "    # Step 1: lowercase and remove unwanted characters\n",
    "    text = text.lower()\n",
    "    text = re.sub(r'\\n|\\r|\\t', ' ', text)\n",
    "    text = re.sub(r'[^a-zA-Z]', ' ', text)\n",
    "\n",
    "    # Step 2: process text with spaCy\n",
    "    doc = nlp(text)\n",
    "\n",
    "    # Step 3: remove stopwords and short tokens, lemmatize\n",
    "    tokens = [\n",
    "        token.lemma_ for token in doc\n",
    "        if not token.is_stop and len(token.text) > 2\n",
    "    ]\n",
    "\n",
    "    return ' '.join(tokens)\n"
   ]
  },
  {
   "cell_type": "markdown",
   "id": "ba27fbca",
   "metadata": {},
   "source": [
    "Apply the Cleaning Function"
   ]
  },
  {
   "cell_type": "code",
   "execution_count": 6,
   "id": "bc4c2794",
   "metadata": {},
   "outputs": [],
   "source": [
    "df['Cleaned_Resume'] = df['Resume'].apply(clean_resume_spacy)\n"
   ]
  },
  {
   "cell_type": "markdown",
   "id": "18aeccd7",
   "metadata": {},
   "source": [
    "View Cleaned Sample Output"
   ]
  },
  {
   "cell_type": "code",
   "execution_count": 7,
   "id": "1f9ab7e4",
   "metadata": {},
   "outputs": [
    {
     "data": {
      "text/html": [
       "<div>\n",
       "<style scoped>\n",
       "    .dataframe tbody tr th:only-of-type {\n",
       "        vertical-align: middle;\n",
       "    }\n",
       "\n",
       "    .dataframe tbody tr th {\n",
       "        vertical-align: top;\n",
       "    }\n",
       "\n",
       "    .dataframe thead th {\n",
       "        text-align: right;\n",
       "    }\n",
       "</style>\n",
       "<table border=\"1\" class=\"dataframe\">\n",
       "  <thead>\n",
       "    <tr style=\"text-align: right;\">\n",
       "      <th></th>\n",
       "      <th>Resume</th>\n",
       "      <th>Cleaned_Resume</th>\n",
       "    </tr>\n",
       "  </thead>\n",
       "  <tbody>\n",
       "    <tr>\n",
       "      <th>0</th>\n",
       "      <td>Skills * Programming Languages: Python (pandas...</td>\n",
       "      <td>skill programming language python panda numpy ...</td>\n",
       "    </tr>\n",
       "    <tr>\n",
       "      <th>1</th>\n",
       "      <td>Education Details \\r\\nMay 2013 to May 2017 B.E...</td>\n",
       "      <td>education detail             uit rgpv data sci...</td>\n",
       "    </tr>\n",
       "    <tr>\n",
       "      <th>2</th>\n",
       "      <td>Areas of Interest Deep Learning, Control Syste...</td>\n",
       "      <td>area interest deep learning control system des...</td>\n",
       "    </tr>\n",
       "    <tr>\n",
       "      <th>3</th>\n",
       "      <td>Skills â¢ R â¢ Python â¢ SAP HANA â¢ Table...</td>\n",
       "      <td>skill           python      sap hana      tabl...</td>\n",
       "    </tr>\n",
       "    <tr>\n",
       "      <th>4</th>\n",
       "      <td>Education Details \\r\\n MCA   YMCAUST,  Faridab...</td>\n",
       "      <td>education detail     mca ymcaust faridabad har...</td>\n",
       "    </tr>\n",
       "  </tbody>\n",
       "</table>\n",
       "</div>"
      ],
      "text/plain": [
       "                                              Resume  \\\n",
       "0  Skills * Programming Languages: Python (pandas...   \n",
       "1  Education Details \\r\\nMay 2013 to May 2017 B.E...   \n",
       "2  Areas of Interest Deep Learning, Control Syste...   \n",
       "3  Skills â¢ R â¢ Python â¢ SAP HANA â¢ Table...   \n",
       "4  Education Details \\r\\n MCA   YMCAUST,  Faridab...   \n",
       "\n",
       "                                      Cleaned_Resume  \n",
       "0  skill programming language python panda numpy ...  \n",
       "1  education detail             uit rgpv data sci...  \n",
       "2  area interest deep learning control system des...  \n",
       "3  skill           python      sap hana      tabl...  \n",
       "4  education detail     mca ymcaust faridabad har...  "
      ]
     },
     "execution_count": 7,
     "metadata": {},
     "output_type": "execute_result"
    }
   ],
   "source": [
    "df[['Resume', 'Cleaned_Resume']].head()\n"
   ]
  },
  {
   "cell_type": "markdown",
   "id": "2f1fdb70",
   "metadata": {},
   "source": [
    "Save the Cleaned Dataset"
   ]
  },
  {
   "cell_type": "code",
   "execution_count": 8,
   "id": "217ed387",
   "metadata": {},
   "outputs": [
    {
     "name": "stdout",
     "output_type": "stream",
     "text": [
      "✅ Cleaned resumes saved!\n"
     ]
    }
   ],
   "source": [
    "df.to_csv(\"../data/resumes_cleaned.csv\", index=False)\n",
    "print(\"✅ Cleaned resumes saved!\")\n"
   ]
  }
 ],
 "metadata": {
  "kernelspec": {
   "display_name": "Python 3",
   "language": "python",
   "name": "python3"
  },
  "language_info": {
   "codemirror_mode": {
    "name": "ipython",
    "version": 3
   },
   "file_extension": ".py",
   "mimetype": "text/x-python",
   "name": "python",
   "nbconvert_exporter": "python",
   "pygments_lexer": "ipython3",
   "version": "3.11.11"
  }
 },
 "nbformat": 4,
 "nbformat_minor": 5
}
