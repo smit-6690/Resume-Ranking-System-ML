{
 "cells": [
  {
   "cell_type": "markdown",
   "id": "dcd9360e",
   "metadata": {},
   "source": [
    "Load the Similarity Matrix"
   ]
  },
  {
   "cell_type": "code",
   "execution_count": 2,
   "id": "ea69d958",
   "metadata": {},
   "outputs": [
    {
     "data": {
      "text/html": [
       "<div>\n",
       "<style scoped>\n",
       "    .dataframe tbody tr th:only-of-type {\n",
       "        vertical-align: middle;\n",
       "    }\n",
       "\n",
       "    .dataframe tbody tr th {\n",
       "        vertical-align: top;\n",
       "    }\n",
       "\n",
       "    .dataframe thead th {\n",
       "        text-align: right;\n",
       "    }\n",
       "</style>\n",
       "<table border=\"1\" class=\"dataframe\">\n",
       "  <thead>\n",
       "    <tr style=\"text-align: right;\">\n",
       "      <th></th>\n",
       "      <th>Resume Preview</th>\n",
       "      <th>Java Developer_0</th>\n",
       "      <th>Java Developer_1</th>\n",
       "      <th>Java Developer_2</th>\n",
       "      <th>DevOps Engineer_3</th>\n",
       "      <th>DevOps Engineer_4</th>\n",
       "      <th>DevOps Engineer_5</th>\n",
       "      <th>Python Developer_6</th>\n",
       "      <th>Python Developer_7</th>\n",
       "      <th>Python Developer_8</th>\n",
       "      <th>...</th>\n",
       "      <th>PMO_65</th>\n",
       "      <th>HR_66</th>\n",
       "      <th>HR_67</th>\n",
       "      <th>HR_68</th>\n",
       "      <th>Arts_69</th>\n",
       "      <th>Arts_70</th>\n",
       "      <th>Arts_71</th>\n",
       "      <th>ETL Developer_72</th>\n",
       "      <th>ETL Developer_73</th>\n",
       "      <th>ETL Developer_74</th>\n",
       "    </tr>\n",
       "  </thead>\n",
       "  <tbody>\n",
       "    <tr>\n",
       "      <th>0</th>\n",
       "      <td>Skills * Programming Languages: Python (pandas...</td>\n",
       "      <td>0.3915</td>\n",
       "      <td>0.3392</td>\n",
       "      <td>0.4121</td>\n",
       "      <td>0.4429</td>\n",
       "      <td>0.4301</td>\n",
       "      <td>0.3702</td>\n",
       "      <td>0.4548</td>\n",
       "      <td>0.5501</td>\n",
       "      <td>0.5071</td>\n",
       "      <td>...</td>\n",
       "      <td>0.4064</td>\n",
       "      <td>0.4656</td>\n",
       "      <td>0.4597</td>\n",
       "      <td>0.4464</td>\n",
       "      <td>0.4310</td>\n",
       "      <td>0.4178</td>\n",
       "      <td>0.4258</td>\n",
       "      <td>0.3931</td>\n",
       "      <td>0.3987</td>\n",
       "      <td>0.3941</td>\n",
       "    </tr>\n",
       "    <tr>\n",
       "      <th>1</th>\n",
       "      <td>Education Details \\r\\nMay 2013 to May 2017 B.E...</td>\n",
       "      <td>0.3897</td>\n",
       "      <td>0.3704</td>\n",
       "      <td>0.4749</td>\n",
       "      <td>0.4441</td>\n",
       "      <td>0.4116</td>\n",
       "      <td>0.3821</td>\n",
       "      <td>0.4291</td>\n",
       "      <td>0.5720</td>\n",
       "      <td>0.5456</td>\n",
       "      <td>...</td>\n",
       "      <td>0.4325</td>\n",
       "      <td>0.4906</td>\n",
       "      <td>0.4822</td>\n",
       "      <td>0.4554</td>\n",
       "      <td>0.4822</td>\n",
       "      <td>0.4284</td>\n",
       "      <td>0.4509</td>\n",
       "      <td>0.3995</td>\n",
       "      <td>0.4126</td>\n",
       "      <td>0.3980</td>\n",
       "    </tr>\n",
       "  </tbody>\n",
       "</table>\n",
       "<p>2 rows × 76 columns</p>\n",
       "</div>"
      ],
      "text/plain": [
       "                                      Resume Preview  Java Developer_0  \\\n",
       "0  Skills * Programming Languages: Python (pandas...            0.3915   \n",
       "1  Education Details \\r\\nMay 2013 to May 2017 B.E...            0.3897   \n",
       "\n",
       "   Java Developer_1  Java Developer_2  DevOps Engineer_3  DevOps Engineer_4  \\\n",
       "0            0.3392            0.4121             0.4429             0.4301   \n",
       "1            0.3704            0.4749             0.4441             0.4116   \n",
       "\n",
       "   DevOps Engineer_5  Python Developer_6  Python Developer_7  \\\n",
       "0             0.3702              0.4548              0.5501   \n",
       "1             0.3821              0.4291              0.5720   \n",
       "\n",
       "   Python Developer_8  ...  PMO_65   HR_66   HR_67   HR_68  Arts_69  Arts_70  \\\n",
       "0              0.5071  ...  0.4064  0.4656  0.4597  0.4464   0.4310   0.4178   \n",
       "1              0.5456  ...  0.4325  0.4906  0.4822  0.4554   0.4822   0.4284   \n",
       "\n",
       "   Arts_71  ETL Developer_72  ETL Developer_73  ETL Developer_74  \n",
       "0   0.4258            0.3931            0.3987            0.3941  \n",
       "1   0.4509            0.3995            0.4126            0.3980  \n",
       "\n",
       "[2 rows x 76 columns]"
      ]
     },
     "execution_count": 2,
     "metadata": {},
     "output_type": "execute_result"
    }
   ],
   "source": [
    "import pandas as pd\n",
    "\n",
    "# Load the similarity matrix we saved earlier\n",
    "similarity_df = pd.read_csv(\"../data/resume_jd_similarity_scores.csv\")\n",
    "\n",
    "# Preview the structure\n",
    "similarity_df.head(2)\n"
   ]
  },
  {
   "cell_type": "markdown",
   "id": "895dc45c",
   "metadata": {},
   "source": [
    "Convert Wide → Long Format"
   ]
  },
  {
   "cell_type": "code",
   "execution_count": 3,
   "id": "19034348",
   "metadata": {},
   "outputs": [
    {
     "data": {
      "text/html": [
       "<div>\n",
       "<style scoped>\n",
       "    .dataframe tbody tr th:only-of-type {\n",
       "        vertical-align: middle;\n",
       "    }\n",
       "\n",
       "    .dataframe tbody tr th {\n",
       "        vertical-align: top;\n",
       "    }\n",
       "\n",
       "    .dataframe thead th {\n",
       "        text-align: right;\n",
       "    }\n",
       "</style>\n",
       "<table border=\"1\" class=\"dataframe\">\n",
       "  <thead>\n",
       "    <tr style=\"text-align: right;\">\n",
       "      <th></th>\n",
       "      <th>Resume Preview</th>\n",
       "      <th>JD_Role</th>\n",
       "      <th>Similarity_Score</th>\n",
       "    </tr>\n",
       "  </thead>\n",
       "  <tbody>\n",
       "    <tr>\n",
       "      <th>0</th>\n",
       "      <td>Skills * Programming Languages: Python (pandas...</td>\n",
       "      <td>Java Developer_0</td>\n",
       "      <td>0.3915</td>\n",
       "    </tr>\n",
       "    <tr>\n",
       "      <th>1</th>\n",
       "      <td>Education Details \\r\\nMay 2013 to May 2017 B.E...</td>\n",
       "      <td>Java Developer_0</td>\n",
       "      <td>0.3897</td>\n",
       "    </tr>\n",
       "    <tr>\n",
       "      <th>2</th>\n",
       "      <td>Areas of Interest Deep Learning, Control Syste...</td>\n",
       "      <td>Java Developer_0</td>\n",
       "      <td>0.3733</td>\n",
       "    </tr>\n",
       "    <tr>\n",
       "      <th>3</th>\n",
       "      <td>Skills â¢ R â¢ Python â¢ SAP HANA â¢ Table...</td>\n",
       "      <td>Java Developer_0</td>\n",
       "      <td>0.3952</td>\n",
       "    </tr>\n",
       "    <tr>\n",
       "      <th>4</th>\n",
       "      <td>Education Details \\r\\n MCA   YMCAUST,  Faridab...</td>\n",
       "      <td>Java Developer_0</td>\n",
       "      <td>0.5317</td>\n",
       "    </tr>\n",
       "  </tbody>\n",
       "</table>\n",
       "</div>"
      ],
      "text/plain": [
       "                                      Resume Preview           JD_Role  \\\n",
       "0  Skills * Programming Languages: Python (pandas...  Java Developer_0   \n",
       "1  Education Details \\r\\nMay 2013 to May 2017 B.E...  Java Developer_0   \n",
       "2  Areas of Interest Deep Learning, Control Syste...  Java Developer_0   \n",
       "3  Skills â¢ R â¢ Python â¢ SAP HANA â¢ Table...  Java Developer_0   \n",
       "4  Education Details \\r\\n MCA   YMCAUST,  Faridab...  Java Developer_0   \n",
       "\n",
       "   Similarity_Score  \n",
       "0            0.3915  \n",
       "1            0.3897  \n",
       "2            0.3733  \n",
       "3            0.3952  \n",
       "4            0.5317  "
      ]
     },
     "execution_count": 3,
     "metadata": {},
     "output_type": "execute_result"
    }
   ],
   "source": [
    "# Melt the similarity matrix to long-form: Resume, JD, Similarity Score\n",
    "long_df = similarity_df.melt(id_vars='Resume Preview', \n",
    "                             var_name='JD_Role', \n",
    "                             value_name='Similarity_Score')\n",
    "\n",
    "# Preview\n",
    "long_df.head()\n"
   ]
  },
  {
   "cell_type": "markdown",
   "id": "26ba4793",
   "metadata": {},
   "source": [
    "Apply Top-K Labeling for Each JD (Smart Semi-supervised)"
   ]
  },
  {
   "cell_type": "code",
   "execution_count": 17,
   "id": "d0a437f6",
   "metadata": {},
   "outputs": [],
   "source": [
    "# Choose number of top resumes to shortlist per JD\n",
    "TOP_K = 10\n",
    "\n",
    "# Empty list to collect labeled data\n",
    "labeled_rows = []\n",
    "\n",
    "# Group by JD role\n",
    "for jd in long_df['JD_Role'].unique():\n",
    "    subset = long_df[long_df['JD_Role'] == jd].copy()\n",
    "\n",
    "    # Sort resumes by similarity score for this JD\n",
    "    subset = subset.sort_values(by='Similarity_Score', ascending=False)\n",
    "\n",
    "    # Label top K as 1 (shortlisted), rest as 0\n",
    "    subset['Label'] = [1 if i < TOP_K else 0 for i in range(len(subset))]\n",
    "\n",
    "    labeled_rows.append(subset)\n",
    "\n",
    "# Combine all labeled groups\n",
    "labeled_df = pd.concat(labeled_rows).reset_index(drop=True)\n",
    "\n",
    "\n",
    "\n"
   ]
  },
  {
   "cell_type": "markdown",
   "id": "2808020e",
   "metadata": {},
   "source": [
    "Check Label Balance"
   ]
  },
  {
   "cell_type": "code",
   "execution_count": 18,
   "id": "37bc7776",
   "metadata": {},
   "outputs": [
    {
     "name": "stdout",
     "output_type": "stream",
     "text": [
      "Label Distribution:\n",
      "Label\n",
      "0    71400\n",
      "1      750\n",
      "Name: count, dtype: int64\n"
     ]
    },
    {
     "data": {
      "image/png": "[encoded data removed]",
      "text/plain": [
       "<Figure size 640x480 with 1 Axes>"
      ]
     },
     "metadata": {},
     "output_type": "display_data"
    }
   ],
   "source": [
    "print(\"Label Distribution:\")\n",
    "print(labeled_df['Label'].value_counts())\n",
    "\n",
    "# Optional: visual check\n",
    "import seaborn as sns\n",
    "import matplotlib.pyplot as plt\n",
    "\n",
    "sns.countplot(x='Label', data=labeled_df)\n",
    "plt.title(\"Label Distribution (Top-K Logic)\")\n",
    "plt.show()\n",
    "\n"
   ]
  },
  {
   "cell_type": "markdown",
   "id": "5a9b25a5",
   "metadata": {},
   "source": [
    "Save Final Labeled Dataset"
   ]
  },
  {
   "cell_type": "code",
   "execution_count": 20,
   "id": "6ad1e806",
   "metadata": {},
   "outputs": [
    {
     "name": "stdout",
     "output_type": "stream",
     "text": [
      "✅ Saved labeled dataset for modeling.\n"
     ]
    }
   ],
   "source": [
    "labeled_df.to_csv(\"../data/labeled_resume_jd_dataset.csv\", index=False)\n",
    "print(\"✅ Saved labeled dataset for modeling.\")\n",
    "\n",
    "\n"
   ]
  }
 ],
 "metadata": {
  "kernelspec": {
   "display_name": "Python 3",
   "language": "python",
   "name": "python3"
  },
  "language_info": {
   "codemirror_mode": {
    "name": "ipython",
    "version": 3
   },
   "file_extension": ".py",
   "mimetype": "text/x-python",
   "name": "python",
   "nbconvert_exporter": "python",
   "pygments_lexer": "ipython3",
   "version": "3.11.11"
  }
 },
 "nbformat": 4,
 "nbformat_minor": 5
}
