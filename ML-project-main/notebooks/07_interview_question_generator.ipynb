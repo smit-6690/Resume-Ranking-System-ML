{
 "cells": [
  {
   "cell_type": "code",
   "execution_count": 6,
   "id": "50ba751a",
   "metadata": {},
   "outputs": [],
   "source": [
    "import openai\n",
    "import os\n"
   ]
  },
  {
   "cell_type": "code",
   "execution_count": null,
   "id": "6f23f7ba",
   "metadata": {},
   "outputs": [
    {
     "name": "stdout",
     "output_type": "stream",
     "text": [
      "1. Can you walk us through a recent project where you utilized APIs in Python to interact with external systems or services?\n",
      "2. How do you approach designing database schemas and writing efficient SQL queries to optimize performance in your backend applications?\n",
      "3. Can you discuss a challenging issue you encountered while working with APIs and SQL in a project, and how you resolved it?\n"
     ]
    }
   ],
   "source": [
    "import openai\n",
    "\n",
    "openai.api_key = \"OPENAI_API_KEY\"\n",
    "response = openai.ChatCompletion.create(\n",
    "    model=\"gpt-3.5-turbo\",\n",
    "    messages=[\n",
    "        {\"role\": \"user\", \"content\": \"Generate 3 interview questions for a backend Python developer skilled in APIs and SQL.\"}\n",
    "    ],\n",
    "    temperature=0.7,\n",
    "    max_tokens=300\n",
    ")\n",
    "\n",
    "print(response['choices'][0]['message']['content'])"
   ]
  },
  {
   "cell_type": "code",
   "execution_count": 13,
   "id": "efe2f7b9",
   "metadata": {},
   "outputs": [
    {
     "data": {
      "text/html": [
       "<div>\n",
       "<style scoped>\n",
       "    .dataframe tbody tr th:only-of-type {\n",
       "        vertical-align: middle;\n",
       "    }\n",
       "\n",
       "    .dataframe tbody tr th {\n",
       "        vertical-align: top;\n",
       "    }\n",
       "\n",
       "    .dataframe thead th {\n",
       "        text-align: right;\n",
       "    }\n",
       "</style>\n",
       "<table border=\"1\" class=\"dataframe\">\n",
       "  <thead>\n",
       "    <tr style=\"text-align: right;\">\n",
       "      <th></th>\n",
       "      <th>Resume_Text</th>\n",
       "      <th>JD_Text</th>\n",
       "    </tr>\n",
       "  </thead>\n",
       "  <tbody>\n",
       "    <tr>\n",
       "      <th>0</th>\n",
       "      <td>skill programming language python panda numpy ...</td>\n",
       "      <td>**Job Title**: Senior Data Science\\n**Location...</td>\n",
       "    </tr>\n",
       "    <tr>\n",
       "      <th>1</th>\n",
       "      <td>education detail             uit rgpv data sci...</td>\n",
       "      <td>**Job Title**: Machine Learning Python Develop...</td>\n",
       "    </tr>\n",
       "    <tr>\n",
       "      <th>2</th>\n",
       "      <td>area interest deep learning control system des...</td>\n",
       "      <td>**Job Title**: Junior Python Developer\\n**Loca...</td>\n",
       "    </tr>\n",
       "    <tr>\n",
       "      <th>3</th>\n",
       "      <td>skill           python      sap hana      tabl...</td>\n",
       "      <td>**Job Title**: Senior Data Science\\n**Location...</td>\n",
       "    </tr>\n",
       "    <tr>\n",
       "      <th>4</th>\n",
       "      <td>education detail     mca ymcaust faridabad har...</td>\n",
       "      <td>**Job Title**: Data Science Analyst\\n**Locatio...</td>\n",
       "    </tr>\n",
       "  </tbody>\n",
       "</table>\n",
       "</div>"
      ],
      "text/plain": [
       "                                         Resume_Text  \\\n",
       "0  skill programming language python panda numpy ...   \n",
       "1  education detail             uit rgpv data sci...   \n",
       "2  area interest deep learning control system des...   \n",
       "3  skill           python      sap hana      tabl...   \n",
       "4  education detail     mca ymcaust faridabad har...   \n",
       "\n",
       "                                             JD_Text  \n",
       "0  **Job Title**: Senior Data Science\\n**Location...  \n",
       "1  **Job Title**: Machine Learning Python Develop...  \n",
       "2  **Job Title**: Junior Python Developer\\n**Loca...  \n",
       "3  **Job Title**: Senior Data Science\\n**Location...  \n",
       "4  **Job Title**: Data Science Analyst\\n**Locatio...  "
      ]
     },
     "execution_count": 13,
     "metadata": {},
     "output_type": "execute_result"
    }
   ],
   "source": [
    "import pandas as pd\n",
    "\n",
    "# Load cleaned resumes and job descriptions\n",
    "resumes_df = pd.read_csv(\"../data/resumes_cleaned.csv\")\n",
    "jd_df = pd.read_csv(\"../data/job_descriptions.csv\")\n",
    "\n",
    "# Load top matched resume–JD pairs (from Phase 2)\n",
    "matches_df = pd.read_csv(\"../data/top_jd_matches_per_resume.csv\")\n",
    "\n",
    "# Merge to bring full JD and Resume text\n",
    "def extract_jd_index(jd_label):\n",
    "    return int(jd_label.split(\"_\")[-1])\n",
    "\n",
    "matches_df['JD_Index'] = matches_df['Top1_JD'].apply(extract_jd_index)\n",
    "\n",
    "matches_df['JD_Text'] = matches_df['JD_Index'].apply(lambda idx: jd_df.loc[idx, 'JD_Text'])\n",
    "matches_df['Resume_Text'] = resumes_df['Cleaned_Resume'].head(len(matches_df))\n",
    "\n",
    "matches_df = matches_df[['Resume_Text', 'JD_Text']]\n",
    "matches_df.head()\n"
   ]
  },
  {
   "cell_type": "code",
   "execution_count": 14,
   "id": "a2bb9ece",
   "metadata": {},
   "outputs": [],
   "source": [
    "def build_prompt(resume, jd):\n",
    "    return f\"\"\"\n",
    "You are an AI recruiter.\n",
    "\n",
    "Here is a job description:\n",
    "---\n",
    "{jd}\n",
    "---\n",
    "\n",
    "Here is a candidate's resume:\n",
    "---\n",
    "{resume}\n",
    "---\n",
    "\n",
    "Based on the resume and job description above, generate 5 specific technical interview questions that the recruiter can ask this candidate to evaluate their suitability for the role. Avoid generic questions. Tailor each question to the skills or experience mentioned.\n",
    "\n",
    "Return only the questions in numbered list format.\n",
    "\"\"\"\n"
   ]
  },
  {
   "cell_type": "code",
   "execution_count": null,
   "id": "d35091cd",
   "metadata": {},
   "outputs": [
    {
     "name": "stdout",
     "output_type": "stream",
     "text": [
      "1. Can you walk us through a specific data science project you worked on where you implemented machine learning techniques such as regression, SVM, Bayesian methods, or random forest? What challenges did you face and how did you overcome them?\n",
      "   \n",
      "2. In your experience with natural language processing, can you explain how you approached sentiment analysis and topic modeling in a project? What tools and techniques did you use, and what were the key insights or outcomes from your analysis?\n",
      "\n",
      "3. You mentioned working on developing a chatbot using Python, natural language processing libraries, and other technologies. Can you describe the architecture of the chatbot system you built, including how it handles user queries, generates responses, and improves over time based on user interactions?\n",
      "\n",
      "4. How have you utilized visualization tools like Tableau, Matplotlib, and Plotly in your data science projects? Can you provide an example of a visualization you created to communicate complex data insights effectively to stakeholders or clients?\n",
      "\n",
      "5. In your role as a Data Science Assurance Associate, you mentioned working on fraud analytics platforms. Can you discuss how you leveraged predictive modeling, topic modeling, and sentiment analysis techniques to detect and investigate fraudulent activities? What were some key findings or successes from these projects?\n"
     ]
    }
   ],
   "source": [
    "import openai\n",
    "\n",
    "openai.api_key = \"OPENAI_API_KEY\"\n",
    "# Pick one Resume–JD pair\n",
    "sample_resume = matches_df.loc[0, 'Resume_Text']\n",
    "sample_jd = matches_df.loc[0, 'JD_Text']\n",
    "\n",
    "prompt = build_prompt(sample_resume, sample_jd)\n",
    "\n",
    "response = openai.ChatCompletion.create(\n",
    "    model=\"gpt-3.5-turbo\",\n",
    "    messages=[\n",
    "        {\"role\": \"user\", \"content\": prompt}\n",
    "    ],\n",
    "    temperature=0.7,\n",
    "    max_tokens=500\n",
    ")\n",
    "\n",
    "questions = response['choices'][0]['message']['content']\n",
    "print(questions)\n"
   ]
  },
  {
   "cell_type": "code",
   "execution_count": null,
   "id": "438b1a48",
   "metadata": {},
   "outputs": [
    {
     "name": "stdout",
     "output_type": "stream",
     "text": [
      "✅ 1 / 10 completed.\n",
      "✅ 2 / 10 completed.\n",
      "✅ 3 / 10 completed.\n",
      "✅ 4 / 10 completed.\n",
      "✅ 5 / 10 completed.\n",
      "✅ 6 / 10 completed.\n",
      "✅ 7 / 10 completed.\n",
      "✅ 8 / 10 completed.\n",
      "✅ 9 / 10 completed.\n",
      "✅ 10 / 10 completed.\n"
     ]
    }
   ],
   "source": [
    "import time\n",
    "import openai\n",
    "\n",
    "openai.api_key = \"OPENAI_API_KEY\"\n",
    "all_questions = []\n",
    "\n",
    "# Number of candidates to generate for (change to 100 later if needed)\n",
    "limit = 10\n",
    "\n",
    "for idx in range(limit):\n",
    "    resume = matches_df.loc[idx, 'Resume_Text']\n",
    "    jd = matches_df.loc[idx, 'JD_Text']\n",
    "    prompt = build_prompt(resume, jd)\n",
    "\n",
    "    try:\n",
    "        response = openai.ChatCompletion.create(\n",
    "            model=\"gpt-3.5-turbo\",\n",
    "            messages=[{\"role\": \"user\", \"content\": prompt}],\n",
    "            temperature=0.7,\n",
    "            max_tokens=500\n",
    "        )\n",
    "\n",
    "        questions = response['choices'][0]['message']['content']\n",
    "        all_questions.append({\n",
    "            'Resume_ID': idx,\n",
    "            'Interview_Questions': questions,\n",
    "            'Resume_Preview': resume[:200],\n",
    "            'JD_Preview': jd[:200]\n",
    "        })\n",
    "\n",
    "        print(f\"✅ {idx+1} / {limit} completed.\")\n",
    "        time.sleep(1.5)  # polite delay\n",
    "\n",
    "    except Exception as e:\n",
    "        print(f\"⚠️  Error at index {idx}: {e}\")\n",
    "\n"
   ]
  },
  {
   "cell_type": "code",
   "execution_count": 22,
   "id": "d3549b42",
   "metadata": {},
   "outputs": [
    {
     "name": "stdout",
     "output_type": "stream",
     "text": [
      "✅ Interview questions saved to interview_questions_output.csv\n"
     ]
    }
   ],
   "source": [
    "questions_df = pd.DataFrame(all_questions)\n",
    "questions_df.to_csv(\"../data/interview_questions_output.csv\", index=False)\n",
    "print(\"✅ Interview questions saved to interview_questions_output.csv\")\n"
   ]
  }
 ],
 "metadata": {
  "kernelspec": {
   "display_name": "Python 3",
   "language": "python",
   "name": "python3"
  },
  "language_info": {
   "codemirror_mode": {
    "name": "ipython",
    "version": 3
   },
   "file_extension": ".py",
   "mimetype": "text/x-python",
   "name": "python",
   "nbconvert_exporter": "python",
   "pygments_lexer": "ipython3",
   "version": "3.11.11"
  }
 },
 "nbformat": 4,
 "nbformat_minor": 5
}
